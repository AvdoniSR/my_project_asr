{
 "cells": [
  {
   "cell_type": "markdown",
   "id": "d007813d-2d84-4b28-aa1d-eb9976d20517",
   "metadata": {},
   "source": [
    "## 📚 7. project – Bringing it all together  \n",
    "*(revised to reflect municipal-level production totals)*\n",
    "\n",
    "### Project title  \n",
    "**“Are Colombia’s meteorological stations well-placed to support its main crop-producing municipalities?”**\n",
    "\n",
    "### Context  \n",
    "The EVA dataset provides **municipal totals** of sown area, production and yield—there is **no field-boundary geometry**. Therefore every agricultural metric is attached to the municipality polygon (or its centroid). Your analysis must respect that spatial resolution.\n",
    "\n",
    "### Objective  \n",
    "Evaluate how effectively the national meteorological-station network covers the municipalities that account for the bulk of crop production.\n",
    "\n",
    "### Data  \n",
    "* `municipios_colombia.shp` – municipal boundaries, EPSG 3116  \n",
    "* `Evaluaciones_Agropecuarias_Municipales_EVA.csv` – yearly production totals per municipality  \n",
    "* `Catalogo_Estaciones_IDEAM.csv` – latitude/longitude of meteorological stations (convert to EPSG 3116)\n",
    "\n",
    "\n",
    "\n",
    "### Tasks  \n",
    "\n",
    "| # | Task | Key skills revisited |\n",
    "|---|------|----------------------|\n",
    "| 1 | **Load & harmonise**  <br>• Read all three files.  <br>• Zero-pad municipal codes and ensure all geometries are in EPSG 3116. | File I/O, CRS handling |\n",
    "| 2 | **Crop–year focus**  <br>• Choose *one* crop (e.g. rice) and *one* recent year.  <br>• Compute municipal **production**, **sown area**, **yield (t ha⁻¹)**. | Attribute join, filtering, derived variables |\n",
    "| 3 | **Top-quartile producers**  <br>• Flag municipalities in the **upper quartile of production**.  <br>• Produce both a map and a table (top 20) of those municipalities. | Quantile classification, choropleths, tables |\n",
    "| 4 | **Station counts**  <br>• Convert the station CSV to a `GeoDataFrame`.  <br>• **Spatial join** each station to its department (`gpd.sjoin`).  <br>• Generate a table: *number of stations per department*.  <br>• Create:  <br> a) a choropleth map of station counts by department,  <br> b) a horizontal bar chart of the same counts (descending order). | Point–polygon spatial join, aggregation, mapping, tabular visualisation |\n",
    "| 5 | **Production vs coverage**  <br>• Dissolve municipalities to departments (summing crop production).  <br>• Join the station-count table to this dissolved layer.  <br>• Produce a scatter plot of *departmental production* vs *station count*; label the four extremal cases (high-production/low-coverage, etc.). | Dissolve with custom `aggfunc`, joins, scatter plots |\n",
    "| 6 | **Short commentary** (max 120 words)  <br>Briefly comment on any mismatch between production volume and station coverage; suggest two departments that might benefit from additional stations. | Concise interpretation |\n",
    "\n",
    "### Deliverables  \n",
    "\n",
    "1. A single, well-structured notebook (`.ipynb`) containing code, markdown explanations, a minimum of **two maps** (Tasks 3 & 4) and **two charts** (bar + scatter).  \n",
    "2. Any image exports stored in a `/figures` folder.\n",
    "\n",
    "### Assessment rubric (18 points)  \n",
    "\n",
    "### Marking rubric – Capstone project\n",
    "\n",
    "| Criterion (max 10 pts each) | Excellent (10) | Good (8) | Satisfactory (6) | Needs improvement (0-5) |\n",
    "|----------------------------|---------------|----------|------------------|-------------------------|\n",
    "| **1. Data preparation & CRS**<br>*Task 1* | All three datasets loaded correctly; municipal codes zero-padded; every layer re-projected to EPSG 3116 and the CRS explicitly documented. | Minor slip (e.g. one CRS printout missing) but data still correct. | Significant omissions (e.g. no CRS check) yet analysis still runs. | Wrong CRS or unpadded codes cause spatial mismatch / results invalid. |\n",
    "| **2. Crop–year analysis**<br>*Task 2* | Production, sown area and yield calculated flawlessly for chosen crop-year; clear explanation of formulae. | One calculation or explanation unclear but outcomes largely correct. | Calculations patchy or inconsistently labelled. | Crop–year subset or yield calculation incorrect / absent. |\n",
    "| **3. Spatial joins & aggregation**<br>*Tasks 3–5* | Station-to-department join, department dissolve and station counts executed with correct predicates and `aggfunc`; outputs fully validated (row counts, null checks). | Logical joins/aggregations but validation limited. | Joins partly correct (e.g. wrong predicate) yet results broadly plausible. | Joins/aggregations flawed or missing → results misleading. |\n",
    "| **4. Visualisation quality**<br>*Maps × 2, bar, scatter* | Maps use appropriate colour ramps, legends, titles; bar & scatter charts clearly labelled; figures exported to `/figures`. | Visuals intelligible but minor cosmetic issues (legend size, axis units). | Visuals produced but cluttered or lacking legends/titles. | Required visuals missing or unreadable. |\n",
    "| **5. Code structure & documentation** | Notebook cleanly sectioned; functions or reusable blocks minimise repetition (DRY); markdown explains every step. | Mostly well-structured; a few redundant code blocks or sparse comments. | Long repetitive cells; key decisions undocumented. | Disorganised, little or no explanation, hard to follow. |\n",
    "\n",
    "**Total: 50 points**\n",
    "\n"
   ]
  },
  {
   "cell_type": "code",
   "execution_count": null,
   "id": "22467582-7c59-44bc-84c7-b6dc23a608d3",
   "metadata": {},
   "outputs": [],
   "source": []
  }
 ],
 "metadata": {
  "kernelspec": {
   "display_name": "Python 3 (ipykernel)",
   "language": "python",
   "name": "python3"
  },
  "language_info": {
   "codemirror_mode": {
    "name": "ipython",
    "version": 3
   },
   "file_extension": ".py",
   "mimetype": "text/x-python",
   "name": "python",
   "nbconvert_exporter": "python",
   "pygments_lexer": "ipython3",
   "version": "3.11.9"
  }
 },
 "nbformat": 4,
 "nbformat_minor": 5
}
