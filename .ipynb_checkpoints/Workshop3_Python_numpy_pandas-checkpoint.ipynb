{
 "cells": [
  {
   "cell_type": "markdown",
   "id": "f82560f7",
   "metadata": {},
   "source": [
    "### Programming in GIS with Python \n",
    " \n",
    "### Universidad Nacional de Colombia\n",
    "\n",
    "### Lecturer: Liliana Castillo Villamor\n",
    "\n",
    "### 🧪Workshop 2: Exploring NumPy and pandas with Precipitation Data**\n",
    "\n",
    "### 🎯 Learning Objectives\n",
    "By completing this notebook, you will:\n",
    "- Understand what a NumPy array is, and how to work with its attributes and operations.\n",
    "- Learn how to manipulate real-world datasets using pandas Series and DataFrames.\n",
    "- Perform transformations and handle missing data.\n",
    "- Apply grouping and aggregation to summarize patterns in precipitation data."
   ]
  },
  {
   "cell_type": "markdown",
   "id": "da830120",
   "metadata": {},
   "source": [
    "# 1. Getting Started\n",
    "Data used in all the workshops is avaliable at the following **[LINK](https://drive.google.com/drive/folders/1vt_uG7KxSQfRShpHpT8cEplAcO64jmPR?usp=sharing)**\n"
   ]
  },
  {
   "cell_type": "markdown",
   "id": "e8d10c67-ec2b-4833-936a-f8b3ac1ca5f4",
   "metadata": {},
   "source": [
    "In this first part, we’ll work with simulated precipitation data. To do this, we’ll use NumPy — a powerful Python library for numerical computing.\n",
    "\n",
    "We’ll generate a series of random precipitation values using a statistical distribution that mimics daily rainfall (gamma distribution). This allows us to understand arrays before dealing with real-world files.enerate a series of random precipitation values using a statistical distribution that mimics daily rainfall (gamma distribution). This allows us to understand arrays before dealing with real-world files.\n",
    "\n",
    "### 🧪 Why simulate rainfall using a gamma distribution?\r\n",
    "\r\n",
    "The gamma distribution is often used to model rainfall amounts because:\r\n",
    "\r\n",
    "- It generates continuous, non-negative values (like rainfall).\r\n",
    "- It allows variability with a long tail — simulating heavy rain events.\r\n",
    "\r\n",
    "We’ve created a NumPy array of 100 daily rainfall values (in millimters).\r\n",
    "tools.\r\n"
   ]
  },
  {
   "cell_type": "markdown",
   "id": "7b599182-8d4b-4819-b727-cfcd480784dd",
   "metadata": {},
   "source": [
    "# 2.NumPy Arraysvalues).\r\n"
   ]
  },
  {
   "cell_type": "markdown",
   "id": "acdf6fdd-1f95-471f-af50-c1c3c6cda823",
   "metadata": {},
   "source": [
    "## 2.1. What is a NumPy Array?\n",
    "\n",
    "A NumPy array (`ndarray`) is a **homogeneous**, efficient container for numerical data. Compared to Python lists:\n",
    "\n",
    "- Arrays are more compact and faster for mathematical operations.\n",
    "- All elements have the same data type.\n",
    "- They support **vectorized operations** (no need for `for` loops).\n",
    "- Arrays are **mutable** (you can change their values).\n",
    "\n",
    "Let’s explore the properties of the array we just created.\n"
   ]
  },
  {
   "cell_type": "code",
   "execution_count": 1,
   "id": "fe874dbd-de07-4e16-a9ea-935fb86265ef",
   "metadata": {},
   "outputs": [
    {
     "name": "stdout",
     "output_type": "stream",
     "text": [
      "[51.38829576 22.38480912 54.27132274  6.96586445 15.3693153  22.54930027\n",
      " 28.54866955 18.28735053 23.07871921 21.35617034]\n"
     ]
    }
   ],
   "source": [
    "import numpy as np\n",
    "\n",
    "# Simulate precipitation data (in mm)\n",
    "np.random.seed(0)\n",
    "valores = np.random.gamma(shape=2.0, scale=10.0, size=100)  # 100 simulated values\n",
    "\n",
    "print(valores[:10])  # Preview first 10 values\n"
   ]
  },
  {
   "cell_type": "code",
   "execution_count": 2,
   "id": "fd84aeec-3813-406f-a5a7-a244e035e04c",
   "metadata": {},
   "outputs": [
    {
     "name": "stdout",
     "output_type": "stream",
     "text": [
      "<class 'numpy.ndarray'>\n",
      "Shape: (100,)\n",
      "Data type: float64\n",
      "Dimensions: 1\n",
      "Number of elements: 100\n"
     ]
    }
   ],
   "source": [
    "print(type(valores))   \n",
    "print(\"Shape:\", valores.shape)\n",
    "print(\"Data type:\", valores.dtype)\n",
    "print(\"Dimensions:\", valores.ndim)\n",
    "print(\"Number of elements:\", valores.size)"
   ]
  },
  {
   "cell_type": "markdown",
   "id": "b90b2611-93c1-455b-9376-b99135763890",
   "metadata": {},
   "source": [
    "### 🔍 Array attributes explained:\r\n",
    "\r\n",
    "- `.shape`: Tuple showing the number of elements in each dimension.\r\n",
    "- `.dtype`: Data type of the array (e.g., float64).\r\n",
    "- `.ndim`: Number of dimensions (1D, 2D, 3D...).\r\n",
    "- `.size`: Total number of elements in the array.\r\n",
    "\r\n",
    "All of these are essential when working with geospatial and environmental data in NumPy.\r\n"
   ]
  },
  {
   "cell_type": "markdown",
   "id": "4a78695d-b21b-4609-afc4-ea1704b839a8",
   "metadata": {},
   "source": [
    "#### 👩‍💻 Now it’s your turn\n",
    "\n",
    "Write code below to:\n",
    "\n",
    "1. Print the first 10 values of the array.\n",
    "2. Print the last 5 values.\n",
    "3. Print a slice from index 10 to 20.\n"
   ]
  },
  {
   "cell_type": "code",
   "execution_count": 10,
   "id": "dac7fa39-7dd6-4d1a-b0ae-ef8ee81141dc",
   "metadata": {},
   "outputs": [
    {
     "name": "stdout",
     "output_type": "stream",
     "text": [
      "[51.38829576 22.38480912 54.27132274  6.96586445 15.3693153  22.54930027\n",
      " 28.54866955 18.28735053 23.07871921 21.35617034]\n",
      "[21.12933641  6.5627966  27.10542707  8.29747684  9.25548615]\n",
      "[44.35287736 14.15590728  0.65982272 26.6090137  66.49635365  4.05894836\n",
      " 45.31925473 43.74283733  7.6318726   1.9435868  38.12927328]\n",
      "[21.12933641  6.5627966  27.10542707  8.29747684  9.25548615]\n"
     ]
    }
   ],
   "source": [
    "# Your code here\n",
    "\n",
    "print(valores[:10])\n",
    "print(valores[95:100])\n",
    "print(valores[10:21])\n",
    "print(valores[-5:])\n"
   ]
  },
  {
   "cell_type": "markdown",
   "id": "7657b54c-b67a-40d5-ae38-c81e5a0a9662",
   "metadata": {},
   "source": [
    "## 2.2. Vectorized Operations and Broadcasting\r\n",
    "\r\n",
    "One of the main advantages of NumPy arrays is the ability to apply operations to entire arrays at once. This is known as **vectorization**, and it eliminates the need for explicit loops.on, **broadcasting** is a powerful feature that allows NumPy to perform operations between arrays of different shapes in a memory-efficient way.\r\n",
    "ly.\r\n"
   ]
  },
  {
   "cell_type": "code",
   "execution_count": 12,
   "id": "7402ac8d-abbf-450d-ba25-2a8ca9eedc08",
   "metadata": {},
   "outputs": [
    {
     "data": {
      "text/plain": [
       "(array([ 0. ,  5.5, 18.2, 25. , 52.3]),\n",
       " array([10. , 15.5, 28.2, 35. , 62.3]),\n",
       " array([  0. ,  11. ,  36.4,  50. , 104.6]),\n",
       " array([-20.2, -14.7,  -2. ,   4.8,  32.1]))"
      ]
     },
     "execution_count": 12,
     "metadata": {},
     "output_type": "execute_result"
    }
   ],
   "source": [
    "# Let's work with a small array of precipitation values (in mm)\n",
    "valores_sample = np.array([0.0, 5.5, 18.2, 25.0, 52.3])\n",
    "\n",
    "# Add 10 mm to each value (simulating a bias correction)\n",
    "valores_plus10 = valores_sample + 10\n",
    "\n",
    "# Multiply each value by 2 (e.g., doubling the intensity)\n",
    "valores_doble = valores_sample * 2\n",
    "\n",
    "# Subtract the average precipitation from each value (centering)\n",
    "media = valores_sample.mean()\n",
    "valores_centrados = valores_sample - media\n",
    "\n",
    "valores_sample, valores_plus10, valores_doble, valores_centrados\n"
   ]
  },
  {
   "cell_type": "markdown",
   "id": "9c22de86-a7dd-46c7-af83-21b16895c4e3",
   "metadata": {},
   "source": [
    "### 🧮 What is broadcasting?\r\n",
    "\r\n",
    "Broadcasting lets NumPy apply an operation between arrays of **different shapes**. In the examples above:\r\n",
    "\r\n",
    "- `valores_sample` is a 1D array of shape (5,)\r\n",
    "- `10` is a scalar (shape `()`), but NumPy **broadcasts** it to match the shape of the array\r\n",
    "\r\n",
    "This mechanism avoids the need to manually replicate or reshape arrays, making code cleaner and more efficient.\r\n",
    "ation.\r\n"
   ]
  },
  {
   "cell_type": "code",
   "execution_count": 13,
   "id": "9fec6916-b6a7-4553-aaa8-16752978eff7",
   "metadata": {},
   "outputs": [
    {
     "data": {
      "text/plain": [
       "array([False, False,  True,  True,  True])"
      ]
     },
     "execution_count": 13,
     "metadata": {},
     "output_type": "execute_result"
    }
   ],
   "source": [
    "# Broadcasting example: compare each value with a threshold\n",
    "lluvia_moderada = valores_sample > 10\n",
    "lluvia_moderada\n",
    "\n"
   ]
  },
  {
   "cell_type": "markdown",
   "id": "0f56438e-b9c3-4865-85ca-14f206d76343",
   "metadata": {},
   "source": [
    "### 💡 Example use case of broadcasting:\r\n",
    "\r\n",
    "Let’s say we want to classify rainfall intensity into categories. We can do this using broadcasting and logical conditions:\r\n",
    "\r\n",
    "- `valor < 1` → “Dry”\r\n",
    "- `1 ≤ valor < 10` → “Light”\r\n",
    "- `10 ≤ valor < 50` → “Moderate”\r\n",
    "- `valor ≥ 50` → “Heavy”\r\n",
    "\r\n",
    "Let’s use `np.select()` to apply this logic to our array.\r\n"
   ]
  },
  {
   "cell_type": "code",
   "execution_count": null,
   "id": "b5f81fc2-2f67-4f48-92ee-b07e4e5b9885",
   "metadata": {},
   "outputs": [],
   "source": [
    "#This block of code classifies precipitation values into categories such as \"Dry\", \"Light\", \"Moderate\", and \"Heavy\". Let's break it down line by line:\n",
    "# Define a list of Boolean conditions based on precipitation thresholds (in mm)\n",
    "# Each condition is applied element-wise to the NumPy array `valores_sample`\n",
    "condiciones = [\n",
    "    valores_sample < 1,                              # Condition 1: values less than 1 mm → \"Dry\"\n",
    "    (valores_sample >= 1) & (valores_sample < 10),  # Condition 2: between 1 (inclusive) and 10 (exclusive) → \"Light\"\n",
    "    (valores_sample >= 10) & (valores_sample < 50), # Condition 3: between 10 and 50 → \"Moderate\"\n",
    "    valores_sample >= 50                            # Condition 4: values 50 mm or more → \"Heavy\"\n",
    "]\n",
    "\n",
    "# Define the corresponding category labels for each condition\n",
    "categorias = [\"Dry\", \"Light\", \"Moderate\", \"Heavy\"]\n",
    "\n",
    "# Use np.select to assign a category to each value in `valores_sample`\n",
    "# It checks each condition in order and applies the corresponding label from `categorias`\n",
    "clasificacion = np.select(condiciones, categorias)\n",
    "\n",
    "# Iterate through both `valores_sample` and the resulting `clasificacion` in parallel\n",
    "# `zip()` pairs each value with its assigned category\n",
    "for v, c in zip(valores_sample, clasificacion):\n",
    "    # Print the precipitation value formatted with 1 decimal place, followed by its category\n",
    "    print(f\"{v:.1f} mm → {c}\")\n",
    "\n"
   ]
  },
  {
   "cell_type": "markdown",
   "id": "53e99b2f-09e5-47f8-89e8-6e3c11f20c63",
   "metadata": {},
   "source": [
    "Lets do a vectorized computation of daily temperature range"
   ]
  },
  {
   "cell_type": "code",
   "execution_count": 14,
   "id": "9dafbb3e-eec4-4879-a783-ca54536c1988",
   "metadata": {},
   "outputs": [
    {
     "name": "stdout",
     "output_type": "stream",
     "text": [
      "[12 11 10 10 11 12 11]\n"
     ]
    }
   ],
   "source": [
    "# Arrays of daily maximum and minimum temperatures (in °C)\n",
    "max_temp = np.array([30, 28, 26, 25, 27, 31, 29])\n",
    "min_temp = np.array([18, 17, 16, 15, 16, 19, 18])\n",
    "\n",
    "# Vectorized operation: subtract one array from another (same shape)\n",
    "temp_range = max_temp - min_temp\n",
    "\n",
    "print(temp_range)\n"
   ]
  },
  {
   "cell_type": "markdown",
   "id": "66374285-0d67-4633-b8f9-376765193c09",
   "metadata": {},
   "source": [
    "#### 👩‍💻 Now it’s your turn\r\n",
    "\r\n",
    "1. Use broadcasting to subtract 5 mm from each value in the array.\r\n",
    "2. Create a new classification: flag values above 20 mm as \"Extreme\".\r\n"
   ]
  },
  {
   "cell_type": "code",
   "execution_count": 15,
   "id": "d466762d-757a-4aba-a9eb-162fe7ed501b",
   "metadata": {},
   "outputs": [
    {
     "name": "stdout",
     "output_type": "stream",
     "text": [
      "[25 23 21 20 22 26 24]\n"
     ]
    }
   ],
   "source": [
    "# Your code here\n",
    "minus_five = max_temp -5\n",
    "print(minus_five)"
   ]
  },
  {
   "cell_type": "markdown",
   "id": "016e60dc-3a42-49bb-a900-2e6afe71b99b",
   "metadata": {},
   "source": [
    "## 2.3. Universal Functions (ufuncs)\r\n",
    "\r\n",
    "**ufuncs** are optimized, element-wise operations that NumPy provides for common mathematical tasks. They work seamlessly with arrays.\r\n",
    "\r\n",
    "Examples:\r\n",
    "- `np.sqrt(x)` → square root\r\n",
    "- `np.log1p(x)` → natural log of (1 + x)\r\n",
    "- `np.clip(x, min, max)` → restrict values within a range\r\n"
   ]
  },
  {
   "cell_type": "code",
   "execution_count": null,
   "id": "36eb5901-ebff-48b9-b632-b8915eca9e75",
   "metadata": {},
   "outputs": [],
   "source": [
    "print(\"array of total values\",valores)\n",
    "print (\"np.sqrt(valores[:5])\",np.sqrt(valores[:5]))\n",
    "print (\"np.log1p(valores[:5])\",np.log1p(valores[:5]))\n",
    "print (\"np.log1p(valores[:5])\",np.clip(valores[:10], 0, 100))"
   ]
  },
  {
   "cell_type": "markdown",
   "id": "767b523a-3343-46ce-92b6-c080cc2dcb29",
   "metadata": {},
   "source": [
    "### 👩‍💻 Now it’s your turn\r\n",
    "\r\n",
    "Use NumPy ufuncs to:\r\n",
    "\r\n",
    "1. Apply `np.exp()` to lastirst 5 values.\r\n",
    "2. Compute the absolute difference between each value and 50 using `np.abs()`.\r\n"
   ]
  },
  {
   "cell_type": "code",
   "execution_count": null,
   "id": "453e9326-8395-470e-b757-de23db356d06",
   "metadata": {},
   "outputs": [],
   "source": [
    "# Your code here\n"
   ]
  },
  {
   "cell_type": "markdown",
   "id": "b63845d7-0512-4e35-90e7-61a62bbb24f0",
   "metadata": {},
   "source": [
    "## 🧠 Reflection Questions:\n",
    "What is the benefit of broadcasting?\n",
    "\n",
    "When might you use np.clip() in environmental analysis?\n"
   ]
  },
  {
   "cell_type": "markdown",
   "id": "2726f375-7b75-4763-ba4a-0116898dbfc6",
   "metadata": {},
   "source": [
    "# 3. 🔎 Pandas: From Arrays to Tables\n",
    "**pandas** is a Python library designed for working with **structured (tabular) data**. It provides two main data structures:\r\n",
    "\r\n",
    "- `Series`: a **one-dimensional** labeled array (similar to a single column in a spreadsheet).\r\n",
    "- `DataFrame`: a **two-dimensional** labeled table (like a spreadsheet or SQL table), where each column can hold different types of data.\r\n",
    "\r\n",
    "pandas is essential in data science and geospatial analysis because it allows us to:\r\n",
    "- Load data from files such as CSVs.\r\n",
    "- Explore and summarize datasets.\r\n",
    "- Clean and transform data efficiently.\r\n",
    "- Perform statistical analysis and aggregations.\r\n",
    "- Prepare data for visualization and\n",
    "\n",
    "We begin by importing the pandas library and loading the precipitation dataset.modeling.\r\n"
   ]
  },
  {
   "cell_type": "code",
   "execution_count": null,
   "id": "eb702e17",
   "metadata": {},
   "outputs": [],
   "source": [
    "import pandas as pd\n",
    "\n",
    "# Load dataset\n",
    "root_folder=\"C:/Users/Liliana/OneDrive - Universidad Nacional de Colombia/1_Periodos_Asignaturas/Cursos_2025_1/Programacion SIG/Talleres/\"\n",
    "precip = pd.read_csv(root_folder+\"precipitacion.csv\")\n",
    "precip.head()"
   ]
  },
  {
   "cell_type": "markdown",
   "id": "b1ad3993",
   "metadata": {},
   "source": [
    "### 🧾 What does `.head()` do?\n",
    "The `.head()` method displays the first 5 rows of the DataFrame.\n",
    "\n",
    "**You can try:**\n",
    "- `.head(10)` → First 10 rows\n",
    "- `.tail()` → Last rows\n",
    "- `.shape` → Number of rows and columns\n",
    "- `.columns` → Column names\n",
    "- `.info()` → Column types and missing values\n",
    "- `.describe()` → Numeric summary"
   ]
  },
  {
   "cell_type": "markdown",
   "id": "5cd4ad6e-db32-4d16-a0d3-fb86261da0e6",
   "metadata": {},
   "source": [
    "## 3.1. 🔍 Inspecting the Dataset\n",
    "We will use pandas methods to understand the structure of the data:\n",
    "\n",
    "- .shape: number of rows and columns\n",
    "\n",
    "- .columns: list of column names\n",
    "\n",
    "- .info(): overview of data types and missing values\n",
    "\n",
    "- .describe(): statistical summary of numerical columns"
   ]
  },
  {
   "cell_type": "code",
   "execution_count": null,
   "id": "f671bf48-d8bd-464c-985a-aec13f63f223",
   "metadata": {},
   "outputs": [],
   "source": [
    "precip.describe()"
   ]
  },
  {
   "cell_type": "code",
   "execution_count": null,
   "id": "2e54786d",
   "metadata": {},
   "outputs": [],
   "source": [
    "\n",
    "precip.info()"
   ]
  },
  {
   "cell_type": "markdown",
   "id": "edd4b91f-0342-4f92-acf2-036cf4c86766",
   "metadata": {},
   "source": [
    "**How to interpret this :**\n",
    "\n",
    "- The dataset has 8007 rows and 8 columns.\n",
    "\n",
    "- The data types include integers, floats, and strings (object).\n",
    "\n",
    "- The Fecha column needs to be converted to datetime."
   ]
  },
  {
   "cell_type": "markdown",
   "id": "e2f84faa-0cd7-43d2-9305-6e13cd2cded2",
   "metadata": {},
   "source": [
    "### 🧠 What does `object` mean?\r\n",
    "\r\n",
    "In `pandas`, the data type `object` is a **general-purpose placeholder**. It usually means:\r\n",
    "\r\n",
    "- The column contains **text (strings)**.\r\n",
    "- Or a **mix of different types** (e.g., numbers and strings).\r\n",
    "- Or other Python objects like **lists, dictionaries**, etc.\r\n",
    "\r\n",
    "In our dataset, all `object` columns (like `NombreEstacion`, `Unidad`, and `NivelAprobacion`) are meant to represent **text labels**, so we should convert them to the proper `string` type.\r\n"
   ]
  },
  {
   "cell_type": "markdown",
   "id": "885eae58-dd9a-43df-a2ef-fe6aa6070fb0",
   "metadata": {},
   "source": [
    "### 📚 Common `pandas` Data Types\r\n",
    "\r\n",
    "| Dtype            | Description                        | Example             |\r\n",
    "|------------------|------------------------------------|---------------------|\r\n",
    "| `int64`          | Whole numbers                      | 42, 8007            |\r\n",
    "| `float64`        | Decimal numbers                    | 5.6, 99.9           |\r\n",
    "| `object`         | Generic type (often used for text) | `\"LA VICTORIA\"`     |\r\n",
    "| `string`         | Explicit string data type          | `\"BOGOTÁ\"`          |\r\n",
    "| `bool`           | Boolean (True/False)               | `True`, `False`     |\r\n",
    "| `datetime64[ns]` | Date and time                      | `2024-07-01 00:00`  |\r\n"
   ]
  },
  {
   "cell_type": "markdown",
   "id": "a0ccec65-04f2-4966-a4f5-e7658155c3bf",
   "metadata": {},
   "source": [
    "## 3.2. 🧩 Cleaning and Transforming Data\r\n",
    "\r\n",
    "### ❓ Handling Missing Values\r\n",
    "\r\n",
    "We check if any values missing:.sum()\r\n"
   ]
  },
  {
   "cell_type": "code",
   "execution_count": null,
   "id": "bae2f373-38d1-4818-b67d-349be8d9de72",
   "metadata": {},
   "outputs": [],
   "source": [
    "precip.isna().sum()"
   ]
  },
  {
   "cell_type": "markdown",
   "id": "a524bbd3-d53e-445e-8264-6c42c9f944ed",
   "metadata": {},
   "source": [
    "### 🔁 Replacing Values\n",
    "\n",
    "Even if all rows are complete, you should be aware of incomplete or invalid values like \"NA\" strings or suspicious values such as 0 mm on rainy days."
   ]
  },
  {
   "cell_type": "code",
   "execution_count": null,
   "id": "cc646279-4b0d-4dcb-a017-d9309dfa1612",
   "metadata": {},
   "outputs": [],
   "source": [
    "precip['NivelAprobacion'] = precip['NivelAprobacion'].replace('NA', 'No Data')\n"
   ]
  },
  {
   "cell_type": "markdown",
   "id": "3a73af4f-75f2-4463-a848-41b2f4569fdd",
   "metadata": {},
   "source": [
    "### 🔄 How to convert to `string` type\r\n",
    "\r\n",
    "To ensure consistent handling of text columns, use `.astype(\"string\")\n",
    "\n",
    "For example:\")\r\n"
   ]
  },
  {
   "cell_type": "code",
   "execution_count": null,
   "id": "c3ca1012-0254-4d07-bfcc-3a4a54077734",
   "metadata": {},
   "outputs": [],
   "source": [
    "precip['NombreEstacion'] = precip['NombreEstacion'].astype(\"string\")"
   ]
  },
  {
   "cell_type": "markdown",
   "id": "740c219d-f475-4fb1-b823-58299d1d2465",
   "metadata": {},
   "source": [
    "You can do the same for other text-based columns:"
   ]
  },
  {
   "cell_type": "code",
   "execution_count": null,
   "id": "7258dfa0-5455-4a57-b80f-3a1cb72d506e",
   "metadata": {},
   "outputs": [],
   "source": [
    "precip['Unidad'] = precip['Unidad'].astype(\"string\")\n",
    "precip['NivelAprobacion'] = precip['NivelAprobacion'].astype(\"string\")"
   ]
  },
  {
   "cell_type": "markdown",
   "id": "36efc08b-862c-416f-b30c-97fde38eee6a",
   "metadata": {},
   "source": [
    "### 🔤 String Operations\n",
    "We can convert all station names to uppercase to ensure consistency:"
   ]
  },
  {
   "cell_type": "code",
   "execution_count": null,
   "id": "a1cc9226-1ef5-4a98-9989-a0a6e2e5317a",
   "metadata": {},
   "outputs": [],
   "source": [
    "precip['NombreEstacion'] = precip['NombreEstacion'].str.upper()"
   ]
  },
  {
   "cell_type": "markdown",
   "id": "7589a6e0-0e58-45c6-8826-b76558a33d37",
   "metadata": {},
   "source": [
    "#### 🧮 Working with Dates\n",
    "Let’s convert 'Fecha' to datetime and extract year/month/day components:"
   ]
  },
  {
   "cell_type": "code",
   "execution_count": null,
   "id": "daa3d93c-1dbe-41e1-9fa6-153899384621",
   "metadata": {},
   "outputs": [],
   "source": [
    "precip['Fecha'] = pd.to_datetime(precip['Fecha'], errors='coerce')\n",
    "precip['Año'] = precip['Fecha'].dt.year\n",
    "precip['Mes'] = precip['Fecha'].dt.month\n"
   ]
  },
  {
   "cell_type": "markdown",
   "id": "e1a95de7-4432-4b5e-939e-2af18c9990dd",
   "metadata": {},
   "source": [
    "#### 👩‍💻 Now it’s your turn:\n",
    "- Create a column called Dia with the day of the month from 'Fecha'.\n",
    "\n",
    "- Create a column called Intensidad with values 'Alta' if 'Valor' > 50', otherwise 'Normal'.\n"
   ]
  },
  {
   "cell_type": "code",
   "execution_count": null,
   "id": "a342a806-9493-4e4f-9e0e-f21571023162",
   "metadata": {},
   "outputs": [],
   "source": [
    "# Your script here"
   ]
  },
  {
   "cell_type": "markdown",
   "id": "af64dc86-5fce-4a26-9588-982ba2bc9fab",
   "metadata": {},
   "source": [
    "### 🔁 Replacing and Renaming\n",
    "Sometimes categorical values are inconsistent or unclear. You can use `.replace()` to standardize them, and `.rename()` to clarify column names.\n"
   ]
  },
  {
   "cell_type": "code",
   "execution_count": null,
   "id": "b46d035e-cfe9-44df-be45-ae29f4b501f8",
   "metadata": {},
   "outputs": [],
   "source": [
    "# Replace 'NA' in NivelAprobacion\n",
    "precip['NivelAprobacion'] = precip['NivelAprobacion'].replace('NA', 'No Data')\n",
    "\n",
    "# Rename the column 'Unidad' to 'UnidadMedida'\n",
    "precip = precip.rename(columns={'Unidad': 'UnidadMedida'})\n"
   ]
  },
  {
   "cell_type": "markdown",
   "id": "309be204-a53e-416d-b86b-ffc5b5f963a5",
   "metadata": {},
   "source": [
    "#### 👩‍💻 Now it’s your turn:\n",
    "- Replace the value 'SIN DATO' in `'NivelAprobacion'` with `'Missing'`.\n",
    "- Rename the column `'Parametro'` to `'TipoDato'`.\n"
   ]
  },
  {
   "cell_type": "code",
   "execution_count": null,
   "id": "f135db64-9c99-496f-9868-16264ae2297b",
   "metadata": {},
   "outputs": [],
   "source": [
    "# Your code here\n"
   ]
  },
  {
   "cell_type": "markdown",
   "id": "89cafb54-80f1-476e-9e98-e1265167f7c6",
   "metadata": {},
   "source": [
    "### 🧮 Creating New Columns\n",
    "You can create new columns by transforming existing ones. This is useful for categorizing, scaling, or engineering new features for analysis.\n",
    "\n",
    "Let's add a column that:\n",
    "- Converts `'Valor'` to integer mm values.\n",
    "- Categorizes intensity based on a threshold.\n"
   ]
  },
  {
   "cell_type": "code",
   "execution_count": null,
   "id": "82088418-ffe0-4202-bb90-553af48440dd",
   "metadata": {},
   "outputs": [],
   "source": [
    "# Round precipitation values\n",
    "precip['ValorEntero'] = precip['Valor'].round(0).astype(int)\n",
    "\n",
    "# Create intensity category\n",
    "precip['Intensidad'] = ['Alta' if x > 50 else 'Normal' for x in precip['Valor']]\n"
   ]
  },
  {
   "cell_type": "markdown",
   "id": "aa6d0d9b-61d6-488a-80a1-11051ea67a5d",
   "metadata": {},
   "source": [
    "#### 👩‍💻 Now it’s your turn:\n",
    "- Create a column `'Valor_cm'` that converts mm to centimeters.\r\n",
    "- Create a column `'TipoEvento'` where values > 100 are labeled `'Evento extremo'`, otherwise `'Evento común'`.\r\n",
    "\n"
   ]
  },
  {
   "cell_type": "code",
   "execution_count": null,
   "id": "1a03f1b9-0531-4d5b-b183-36e55995bff0",
   "metadata": {},
   "outputs": [],
   "source": [
    "# Your code here\n"
   ]
  },
  {
   "cell_type": "markdown",
   "id": "3b27c189-5aff-4cd0-95f9-2ad37ccc3c9b",
   "metadata": {},
   "source": [
    "## 3.3. 📊 Descriptive statistics and filtering"
   ]
  },
  {
   "cell_type": "code",
   "execution_count": null,
   "id": "550c3c05-51d8-42b0-bf40-7cd37b395eba",
   "metadata": {},
   "outputs": [],
   "source": [
    "precip['Valor'].mean()\n",
    "precip['Valor'].describe()\n"
   ]
  },
  {
   "cell_type": "markdown",
   "id": "8de7c356-5046-41cc-8467-01be06c789db",
   "metadata": {},
   "source": [
    "## 3.4. Aggregation and Grouping\r\n",
    "\r\n",
    "Aggregation allows us to summarize and analyze large volumes of data efficiently. In pandas, we use `.groupby()` to split the dataset into groups based on one or more keys (like station or year), and then we apply aggregation functions such as `mean()`, `min()`, `max()`, or `std()`.\r\n",
    "\r\n",
    "This is especially useful in environmental datasets like precipitation, where we may want to understand:\r\n",
    "- How rainfall varies **by station**\r\n",
    "- How precipitation changes **over time** (e.g., by month or year)\r\n",
    "- The **range and distribution** of rainfall values within a \n",
    "by StationLet’s group the data by station name and calculate the average recorded precipitation.tion:\r\n"
   ]
  },
  {
   "cell_type": "code",
   "execution_count": null,
   "id": "a2b72ecd-9261-47da-a582-e4ad54901f6e",
   "metadata": {},
   "outputs": [],
   "source": [
    "precip.groupby('NombreEstacion')['Valor'].mean().sort_values(ascending=False)\n"
   ]
  },
  {
   "cell_type": "markdown",
   "id": "53f243d3-dd89-4e23-b54a-d00a331bb503",
   "metadata": {},
   "source": [
    "The previous line performs a grouped aggregation and sorting in the following steps:\n",
    "\n",
    "`precip.groupby('NombreEstacion')`: Groups the dataset by the 'NombreEstacion' column — meaning all rows that share the same station name will be grouped together.\n",
    "\n",
    "`['Valor'].mean()` :For each station group, calculates the average (mean) of the 'Valor' column, which contains precipitation values.\n",
    "\n",
    "`.sort_values(ascending=False)`:Sorts the resulting average values from highest to lowest, so the stations with the highest mean precipitation appear at the top.\n",
    "\n",
    "**This is useful to compare average rainfall across all stations in descending order.**"
   ]
  },
  {
   "cell_type": "markdown",
   "id": "f8e01c00-6ba3-4019-bd4c-4a60726adb50",
   "metadata": {},
   "source": [
    "### 🔄 Multiple Aggregations"
   ]
  },
  {
   "cell_type": "markdown",
   "id": "b7189eaa-d587-4ee7-9fe0-355a4bd1a1af",
   "metadata": {},
   "source": [
    "We can also compute several summary statistics at once by using `.agg()`.\n",
    "\n",
    "This is useful when you want a more complete picture of variation within each group.\n"
   ]
  },
  {
   "cell_type": "code",
   "execution_count": null,
   "id": "143cdb11-968e-448f-937e-89b83e65cdcf",
   "metadata": {},
   "outputs": [],
   "source": [
    "precip.groupby('NombreEstacion')['Valor'].agg(['mean', 'min', 'max', 'std'])\n"
   ]
  },
  {
   "cell_type": "markdown",
   "id": "b01b16d7-673c-4dbb-a043-769b33b6a1aa",
   "metadata": {},
   "source": [
    "### 👩‍💻 Now it’s your turn:\n",
    "- Group by `'NombreEstacion'` and compute the **maximum precipitation**.\n",
    "- Sort the results in ascending order.\n",
    "- Group by `'NivelAprobacion'` and compute both the `mean` and `count` of `'Valor'`.\r\n",
    "- Group by `'Variable'` and compute `min`, `max`, and `std`..\r\n",
    ".\r\n",
    "\n"
   ]
  },
  {
   "cell_type": "markdown",
   "id": "3ccb0e79-bb9e-4bd0-9db1-45bfdaba3301",
   "metadata": {},
   "source": [
    "### 📆 Aggregating by Time\n",
    "We can also aggregate data by **time components** like year or month to explore seasonality or trends over years.\r\n",
    "\r\n",
    "Let’s group by `'Año'` and `'Mes'` and compute the monthly average precipitation across all stations.\r\n"
   ]
  },
  {
   "cell_type": "code",
   "execution_count": null,
   "id": "d8f5905e-b313-4ea6-a8d5-648b1790f752",
   "metadata": {},
   "outputs": [],
   "source": [
    "precip.groupby(['Año', 'Mes'])['Valor'].mean()"
   ]
  },
  {
   "cell_type": "markdown",
   "id": "140319b9-3756-4e47-be52-fb08147bf28e",
   "metadata": {},
   "source": [
    "#### 👩‍💻 Now it’s your turn:\n",
    "- Group by `'Año'` and calculate the total (`sum`) precipitation per year.\n",
    "- Group by `'Mes'` and compute the standard deviation of `'Valor'`.\n",
    ".\r\n",
    "\n"
   ]
  },
  {
   "cell_type": "code",
   "execution_count": null,
   "id": "791c2dd9-ea86-47f0-9e2c-513b7bf72cc9",
   "metadata": {},
   "outputs": [],
   "source": [
    "# Your code here\n"
   ]
  },
  {
   "cell_type": "markdown",
   "id": "f0ec8f08-f4ed-447b-a7fe-578eb32bfbbb",
   "metadata": {},
   "source": [
    "## 3.5. 🧩 Basic Visualization with pandas and matplotlib\r\n",
    "\r\n",
    "Visualizing aggregated data helps us understand trends and compare groups more intuitively. \r\n",
    "\r\n",
    "In pandas, we can use `.plot()` to quickly create basic charts from Series or DataFrames. These are powered by the `matplotlib` library.\r\n",
    "\r\n",
    "Let's explore basic line and bar plots using the precipitation data.\r\n"
   ]
  },
  {
   "cell_type": "markdown",
   "id": "46d2f212-41cd-4fdf-9580-7c4c6e1ebe75",
   "metadata": {},
   "source": [
    "### 📈 Line Plot: Annual Average Precipitation"
   ]
  },
  {
   "cell_type": "markdown",
   "id": "5feefe60-6156-43fa-9962-260185478356",
   "metadata": {},
   "source": [
    "Let’s visualize how average precipitation has changed **year by year**.\n"
   ]
  },
  {
   "cell_type": "code",
   "execution_count": null,
   "id": "52ea7018-47c9-4380-b24f-c9b986e21dd6",
   "metadata": {},
   "outputs": [],
   "source": [
    "import matplotlib.pyplot as plt\n",
    "\n",
    "# Average precipitation by year\n",
    "precip.groupby('Año')['Valor'].mean().plot(kind='line', marker='o', title='Average Annual Precipitation')\n",
    "plt.xlabel('Year')\n",
    "plt.ylabel('Precipitation (mm)')\n",
    "plt.grid(True)\n",
    "plt.tight_layout()\n",
    "plt.show()\n"
   ]
  },
  {
   "cell_type": "markdown",
   "id": "f3a52345-a455-41d0-9ab1-3b9f8fc4d93c",
   "metadata": {},
   "source": [
    "###  📊 Bar Plot: Monthly Mean Precipitation"
   ]
  },
  {
   "cell_type": "markdown",
   "id": "f8d3e09a-a357-4b72-8131-b159079dde28",
   "metadata": {},
   "source": [
    "Now let’s compare **average monthly precipitation** across all stations.\n"
   ]
  },
  {
   "cell_type": "code",
   "execution_count": null,
   "id": "ad0c2ae4-71ed-4421-941e-431d166061c7",
   "metadata": {},
   "outputs": [],
   "source": [
    "precip.groupby('Mes')['Valor'].mean().plot(kind='bar', title='Average Monthly Precipitation')\n",
    "plt.xlabel('Month')\n",
    "plt.ylabel('Precipitation (mm)')\n",
    "plt.grid(True)\n",
    "plt.tight_layout()\n",
    "plt.show()\n"
   ]
  },
  {
   "cell_type": "markdown",
   "id": "1f9970b7-abbd-4272-83e8-6cc58fc1873d",
   "metadata": {},
   "source": [
    "#### 👩‍💻 Now it’s your turn:\n",
    "- Create a line plot of **total precipitation per year**.\r\n",
    "- Create a bar chart showing **standard deviation of precipitation per month**.\r\n"
   ]
  },
  {
   "cell_type": "code",
   "execution_count": 2,
   "id": "db8cfaf3-151e-49c5-80df-1c28289e2d43",
   "metadata": {},
   "outputs": [],
   "source": [
    "# Your code here\n"
   ]
  },
  {
   "cell_type": "code",
   "execution_count": null,
   "id": "f98738ec-30be-4810-b0c6-7cf5c26d1aad",
   "metadata": {},
   "outputs": [],
   "source": []
  }
 ],
 "metadata": {
  "kernelspec": {
   "display_name": "Python 3 (ipykernel)",
   "language": "python",
   "name": "python3"
  },
  "language_info": {
   "codemirror_mode": {
    "name": "ipython",
    "version": 3
   },
   "file_extension": ".py",
   "mimetype": "text/x-python",
   "name": "python",
   "nbconvert_exporter": "python",
   "pygments_lexer": "ipython3",
   "version": "3.11.9"
  }
 },
 "nbformat": 4,
 "nbformat_minor": 5
}
